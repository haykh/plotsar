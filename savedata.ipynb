{
 "cells": [
  {
   "cell_type": "code",
   "execution_count": 1,
   "metadata": {},
   "outputs": [],
   "source": [
    "import numpy as np\n",
    "from astropy.io import fits\n",
    "import json\n",
    "\n",
    "\n",
    "class NpEncoder(json.JSONEncoder):\n",
    "    def default(self, obj):\n",
    "        if isinstance(obj, np.integer):\n",
    "            return int(obj)\n",
    "        if isinstance(obj, np.floating):\n",
    "            return float(obj)\n",
    "        if isinstance(obj, np.ndarray):\n",
    "            return obj.tolist()\n",
    "        return json.JSONEncoder.default(self, obj)"
   ]
  },
  {
   "cell_type": "code",
   "execution_count": 2,
   "metadata": {},
   "outputs": [],
   "source": [
    "hdul = fits.open(\"gll_psc_v30.fit\")\n",
    "data = hdul[1].data\n",
    "cols = hdul[1].columns.names\n",
    "mask = (data[\"CLASS1\"].rfind(\"MSP\") >= 0) | (data[\"CLASS1\"].rfind(\"PSR\") >= 0)\n",
    "data = data[mask]\n",
    "\n",
    "bins = np.array(\n",
    "    [[hdul[5].data[i][0], hdul[5].data[i][1]] for i in range(len(hdul[5].data))]\n",
    ")\n",
    "bins = np.array([np.unique(bins[:, 0]), np.unique(bins[:, 1])]).T\n",
    "\n",
    "cols = \"Source_Name;RAJ2000;DEJ2000;GLON;GLAT;Signif_Avg;Energy_Flux100;Unc_Energy_Flux100;SpectrumType;PL_Flux_Density;Unc_PL_Flux_Density;PL_Index;Unc_PL_Index;PLEC_Flux_Density;Unc_PLEC_Flux_Density;PLEC_IndexS;Unc_PLEC_IndexS;PLEC_ExpfactorS;Unc_PLEC_ExpfactorS;PLEC_Exp_Index;Unc_PLEC_Exp_Index;PLEC_SigCurv;PLEC_EPeak;Unc_PLEC_EPeak;Flux_Band;Unc_Flux_Band;nuFnu_Band;ASSOC_TEV;Flags\"\n",
    "units = \";deg;deg;deg;deg;;erg cm-2 s-1;erg cm-2 s-1;;cm-2 MeV-1 ph s-1;cm-2 MeV-1 ph s-1;;;cm-2 MeV-1 ph s-1;cm-2 MeV-1 ph s-1;;;;;;;;MeV;MeV;cm-2 s-1;cm-2 s-1;erg cm-2 s-1;;\"\n",
    "\n",
    "data_ = {k: (np.array(data[k]), u) for k, u in zip(cols.split(\";\"), units.split(\";\"))}\n",
    "data_[\"Name\"] = (data[\"ASSOC1\"].replace(\"PSR \", \"\").strip(), \"\")\n",
    "data = data_\n",
    "data[\"Band\"] = (bins, \"MeV\")\n",
    "\n",
    "data = [\n",
    "    {k: [v[0][i], v[1]] if k != \"Band\" else [bins, \"MeV\"] for k, v in data.items()}\n",
    "    for i in range(len(data[\"Source_Name\"][0]))\n",
    "]"
   ]
  },
  {
   "cell_type": "code",
   "execution_count": 191,
   "metadata": {},
   "outputs": [],
   "source": [
    "json.dump(data, open(\"fermi.json\", \"w\"), cls=NpEncoder)"
   ]
  },
  {
   "cell_type": "code",
   "execution_count": 192,
   "metadata": {},
   "outputs": [],
   "source": [
    "cols = [\"Name\", \"P0\", \"dP0\", \"P1\", \"dP1\", \"Dist\", \"Edot\", \"Bsurf\"]\n",
    "data = np.loadtxt(\n",
    "    \"psrcat.csv\",\n",
    "    delimiter=\";\",\n",
    "    dtype=str,\n",
    "    usecols=(3, 5, 6, 8, 9, 11, 12, 13),\n",
    "    converters={3: lambda s: s.strip()},\n",
    ")[2:]\n",
    "data = data[(data[:, 1] != \"*\") & (data[:, 3] != \"*\")]\n",
    "data = {\n",
    "    k: (np.array(data[:, i]), u)\n",
    "    for i, (k, u) in enumerate(zip(cols, [\"\", \"s\", \"s\", \"\", \"\", \"kpc\", \"erg/s\", \"G\"]))\n",
    "}\n",
    "data = {\n",
    "    k: (\n",
    "        np.array(\n",
    "            [np.nan if v == \"*\" else v for v in data[k][0]],\n",
    "            dtype=float if k != \"Name\" else str,\n",
    "        ),\n",
    "        data[k][1],\n",
    "    )\n",
    "    for k in cols\n",
    "}\n",
    "\n",
    "# invert data to array of objects\n",
    "data = [\n",
    "    {k: [v[0][i], v[1]] for k, v in data.items()} for i in range(len(data[\"Name\"][0]))\n",
    "]"
   ]
  },
  {
   "cell_type": "code",
   "execution_count": 193,
   "metadata": {},
   "outputs": [],
   "source": [
    "json.dump(data, open(\"atnf.json\", \"w\"), cls=NpEncoder)"
   ]
  }
 ],
 "metadata": {
  "kernelspec": {
   "display_name": "Python 3.10.8 ('.venv': venv)",
   "language": "python",
   "name": "python3"
  },
  "language_info": {
   "codemirror_mode": {
    "name": "ipython",
    "version": 3
   },
   "file_extension": ".py",
   "mimetype": "text/x-python",
   "name": "python",
   "nbconvert_exporter": "python",
   "pygments_lexer": "ipython3",
   "version": "3.10.8"
  },
  "orig_nbformat": 4,
  "vscode": {
   "interpreter": {
    "hash": "fc3faf8808e4e263a8cb4e00a5de8a977ae6b14c6a6548c4c228d94c782175fa"
   }
  }
 },
 "nbformat": 4,
 "nbformat_minor": 2
}
