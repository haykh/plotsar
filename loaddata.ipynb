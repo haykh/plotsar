{
 "cells": [
  {
   "cell_type": "code",
   "execution_count": 128,
   "metadata": {},
   "outputs": [],
   "source": [
    "import json\n",
    "import pandas as pd\n",
    "data_fermi = json.load(open(\"plotly/data/fermi.json\", \"r\"))\n",
    "data_atnf = json.load(open(\"plotly/data/atnf.json\", \"r\"))\n",
    "units_atnf = {k: v[1] if v[1] != \"\" else None for k, v in data_atnf[0].items()}\n",
    "data_atnf = pd.DataFrame(\n",
    "    {k: [d[k][0] for d in data_atnf] for k in data_atnf[0].keys()}\n",
    ")\n",
    "units_fermi = {\n",
    "    k: v[1] if v[1] != \"\" else None for k, v in data_fermi[0].items()\n",
    "}\n",
    "data_fermi = pd.DataFrame(\n",
    "    {k: [d[k][0] for d in data_fermi] for k in data_fermi[0].keys()}\n",
    ")\n",
    "data = pd.merge(\n",
    "    data_fermi, data_atnf, on=\"Name\", how=\"outer\", indicator=\"Catalog\"\n",
    ")\n",
    "data[\"Catalog\"].replace(\n",
    "    {\"left_only\": \"Fermi\", \"right_only\": \"ATNF\", \"both\": \"Both\"}, inplace=True\n",
    ")"
   ]
  },
  {
   "cell_type": "code",
   "execution_count": 130,
   "metadata": {},
   "outputs": [
    {
     "data": {
      "text/plain": [
       "{'Source_Name': None,\n",
       " 'RAJ2000': 'deg',\n",
       " 'DEJ2000': 'deg',\n",
       " 'GLON': 'deg',\n",
       " 'GLAT': 'deg',\n",
       " 'Signif_Avg': None,\n",
       " 'Energy_Flux100': 'erg cm-2 s-1',\n",
       " 'Unc_Energy_Flux100': 'erg cm-2 s-1',\n",
       " 'SpectrumType': None,\n",
       " 'PL_Flux_Density': 'cm-2 MeV-1 ph s-1',\n",
       " 'Unc_PL_Flux_Density': 'cm-2 MeV-1 ph s-1',\n",
       " 'PL_Index': None,\n",
       " 'Unc_PL_Index': None,\n",
       " 'PLEC_Flux_Density': 'cm-2 MeV-1 ph s-1',\n",
       " 'Unc_PLEC_Flux_Density': 'cm-2 MeV-1 ph s-1',\n",
       " 'PLEC_IndexS': None,\n",
       " 'Unc_PLEC_IndexS': None,\n",
       " 'PLEC_ExpfactorS': None,\n",
       " 'Unc_PLEC_ExpfactorS': None,\n",
       " 'PLEC_Exp_Index': None,\n",
       " 'Unc_PLEC_Exp_Index': None,\n",
       " 'PLEC_SigCurv': None,\n",
       " 'PLEC_EPeak': 'MeV',\n",
       " 'Unc_PLEC_EPeak': 'MeV',\n",
       " 'Flux_Band': 'cm-2 s-1',\n",
       " 'Unc_Flux_Band': 'cm-2 s-1',\n",
       " 'nuFnu_Band': 'erg cm-2 s-1',\n",
       " 'ASSOC_TEV': None,\n",
       " 'Flags': None,\n",
       " 'Name': None,\n",
       " 'Band': 'MeV',\n",
       " 'P0': 's',\n",
       " 'dP0': 's',\n",
       " 'P1': None,\n",
       " 'dP1': None,\n",
       " 'Dist': 'kpc',\n",
       " 'Edot': 'erg/s',\n",
       " 'Bsurf': 'G'}"
      ]
     },
     "execution_count": 130,
     "metadata": {},
     "output_type": "execute_result"
    }
   ],
   "source": [
    "{**units_fermi, **units_atnf}"
   ]
  },
  {
   "cell_type": "code",
   "execution_count": 121,
   "metadata": {},
   "outputs": [
    {
     "data": {
      "text/plain": [
       "Index(['Source_Name', 'RAJ2000', 'DEJ2000', 'GLON', 'GLAT', 'Signif_Avg',\n",
       "       'Energy_Flux100', 'Unc_Energy_Flux100', 'SpectrumType',\n",
       "       'PL_Flux_Density', 'Unc_PL_Flux_Density', 'PL_Index', 'Unc_PL_Index',\n",
       "       'PLEC_Flux_Density', 'Unc_PLEC_Flux_Density', 'PLEC_IndexS',\n",
       "       'Unc_PLEC_IndexS', 'PLEC_ExpfactorS', 'Unc_PLEC_ExpfactorS',\n",
       "       'PLEC_Exp_Index', 'Unc_PLEC_Exp_Index', 'PLEC_SigCurv', 'PLEC_EPeak',\n",
       "       'Unc_PLEC_EPeak', 'Flux_Band', 'Unc_Flux_Band', 'nuFnu_Band',\n",
       "       'ASSOC_TEV', 'Flags', 'Name', 'Band', 'P0', 'dP0', 'P1', 'dP1', 'Dist',\n",
       "       'Edot', 'Bsurf', 'Catalog'],\n",
       "      dtype='object')"
      ]
     },
     "execution_count": 121,
     "metadata": {},
     "output_type": "execute_result"
    }
   ],
   "source": [
    "data.columns"
   ]
  },
  {
   "cell_type": "code",
   "execution_count": 87,
   "metadata": {},
   "outputs": [],
   "source": [
    "import pandas as pd\n",
    "\n",
    "\n",
    "# names_fermi = [d[\"Name\"][0] for d in data_fermi]\n",
    "# data = [\n",
    "#     {\n",
    "#         **d,\n",
    "#         \"Fermi\": data_fermi[names_fermi.index(d[\"Name\"][0])]\n",
    "#         if d[\"Name\"][0] in names_fermi\n",
    "#         else None,\n",
    "#     }\n",
    "#     for d in data_atnf\n",
    "# ]"
   ]
  },
  {
   "cell_type": "code",
   "execution_count": 93,
   "metadata": {},
   "outputs": [
    {
     "data": {
      "text/plain": [
       "[[50.0, 100.0],\n",
       " [100.0, 300.0],\n",
       " [300.0, 1000.0],\n",
       " [1000.0, 3000.0],\n",
       " [3000.0, 10000.0],\n",
       " [10000.0, 30000.0],\n",
       " [30000.0, 100000.0],\n",
       " [100000.0, 1000000.0]]"
      ]
     },
     "execution_count": 93,
     "metadata": {},
     "output_type": "execute_result"
    }
   ],
   "source": [
    "data_fermi['Band'][0]"
   ]
  },
  {
   "cell_type": "code",
   "execution_count": 94,
   "metadata": {},
   "outputs": [
    {
     "data": {
      "text/plain": [
       "'MeV'"
      ]
     },
     "execution_count": 94,
     "metadata": {},
     "output_type": "execute_result"
    }
   ],
   "source": [
    "units_fermi['Band']"
   ]
  },
  {
   "cell_type": "code",
   "execution_count": 56,
   "metadata": {},
   "outputs": [
    {
     "data": {
      "text/plain": [
       "243"
      ]
     },
     "execution_count": 56,
     "metadata": {},
     "output_type": "execute_result"
    }
   ],
   "source": [
    "def selectOnlyFermi(data):\n",
    "    return [d for d in data if d['Fermi'] is not None]"
   ]
  }
 ],
 "metadata": {
  "kernelspec": {
   "display_name": "Python 3.10.8 ('.venv': venv)",
   "language": "python",
   "name": "python3"
  },
  "language_info": {
   "codemirror_mode": {
    "name": "ipython",
    "version": 3
   },
   "file_extension": ".py",
   "mimetype": "text/x-python",
   "name": "python",
   "nbconvert_exporter": "python",
   "pygments_lexer": "ipython3",
   "version": "3.10.8"
  },
  "orig_nbformat": 4,
  "vscode": {
   "interpreter": {
    "hash": "9c48f3e5a424368436c1ea8951176f5faa7f17a75db60a76ea288b4722e0d884"
   }
  }
 },
 "nbformat": 4,
 "nbformat_minor": 2
}
